{
 "cells": [
  {
   "cell_type": "markdown",
   "metadata": {},
   "source": [
    "# Example - Scientific Computing - Multiple Players\n",
    "\n",
    "In this example, we demonstrate how we can perform scientific computation accross multiple data owners while keeping the data always encrypted during computation.\n",
    "\n",
    "For simplicity, we will perform this computation between the different parties locally using the `LocalMooseRutime`. To see how you can execute Moose computation over the network, you can find examples in the [reinder folder](https://github.com/tf-encrypted/moose/tree/main/reindeer)."
   ]
  },
  {
   "cell_type": "code",
   "execution_count": 65,
   "metadata": {},
   "outputs": [],
   "source": [
    "import numpy as np\n",
    "\n",
    "from pymoose import edsl\n",
    "from pymoose.testing import LocalMooseRuntime\n",
    "\n",
    "np.random.seed(1234)\n",
    "FIXED = edsl.fixed(24, 40)"
   ]
  },
  {
   "cell_type": "markdown",
   "metadata": {},
   "source": [
    "### Use case\n",
    "\n",
    "The use case we are trying to solve is the following: researchers would like to measure the correlation between alcohol consumption and students grades. However the alcohol consumption data and grades data are owned respectively by the Department of Public Health and the Department of Education. These datasets are too sensitive to be moved to a central location or expose the raw data directly to the researchers. To solve this problem, we want to compute the correlation metric on an encrypted version of these datasets. "
   ]
  },
  {
   "cell_type": "markdown",
   "metadata": {},
   "source": [
    "### Data\n",
    "\n",
    "For this demo, we are generating synthetic datasets for 100 students. Of course the correlation result is not true. It's just to illustrace how Moose can be used."
   ]
  },
  {
   "cell_type": "code",
   "execution_count": 64,
   "metadata": {},
   "outputs": [
    {
     "name": "stdout",
     "output_type": "stream",
     "text": [
      "Acohol consumption data from Departement of Public Health: [11.06803447  9.58819631  6.28498731  9.63183684 11.17578054]\n",
      "Grades data from Departement of Education: [11.06803447  9.58819631  6.28498731  9.63183684 11.17578054]\n"
     ]
    }
   ],
   "source": [
    "def generate_synthetic_correlated_data(n_samples):\n",
    "    mu = np.array([10, 0])\n",
    "    r = np.array([\n",
    "            [  3.40, -2.75],\n",
    "            [ -2.75,  5.50],\n",
    "        ])\n",
    "    rng = np.random.default_rng(12)\n",
    "    x = rng.multivariate_normal(mu, r, size=n_samples)\n",
    "    return x[:, 0], x[:, 1]\n",
    "\n",
    "alcohol_consumption, grades = generate_synthetic_correlated_data(100)\n",
    "\n",
    "print(f\"Acohol consumption data from Departement of Public Health: {alcohol_consumption[:5]}\")\n",
    "print(f\"Grades data from Departement of Education: {alcohol_consumption[:5]}\")\n"
   ]
  },
  {
   "cell_type": "markdown",
   "metadata": {},
   "source": [
    "### Define Moose Computation\n",
    "\n",
    "To measure the correlation between the alcohol consumption and students grades, we will compute the [pearson correlation coefficients](https://en.wikipedia.org/wiki/Pearson_correlation_coefficient).\n",
    "\n",
    "To express this computation, Moose offer a python EDSL. As you will notice, the syntax is very similar to the scientific computation library [Numpy](https://numpy.org/).\n",
    "\n",
    "The main difference is the notion of placements: host placement and replicated placement."
   ]
  },
  {
   "cell_type": "code",
   "execution_count": 73,
   "metadata": {},
   "outputs": [],
   "source": [
    "def correlation_computation():\n",
    "    pub_health_dpt = edsl.host_placement(name=\"pub_health_dpt\")\n",
    "    education_dpt = edsl.host_placement(name=\"education_dpt\")\n",
    "    data_scientist = edsl.host_placement(name=\"data_scientist\")\n",
    "    \n",
    "    encrypted_governement = edsl.replicated_placement(\n",
    "        name=\"encrypted_governement\",\n",
    "        players=[pub_health_dpt, education_dpt, data_scientist],\n",
    "    )\n",
    "\n",
    "    def pearson_correlation_coefficient(x, y):\n",
    "        x_mean = edsl.mean(x, 0)\n",
    "        y_mean = edsl.mean(y, 0)\n",
    "        stdv_x = edsl.sum(edsl.square(edsl.sub(x, x_mean)))\n",
    "        stdv_y = edsl.sum(edsl.square(edsl.sub(y, y_mean)))\n",
    "        corr_num = edsl.sum(edsl.mul(edsl.sub(x, x_mean), edsl.sub(y, y_mean)))\n",
    "        corr_denom = edsl.sqrt(edsl.mul(stdv_x, stdv_y))\n",
    "        return edsl.div(corr_num, corr_denom)\n",
    "\n",
    "    @edsl.computation\n",
    "    def moose_comp():\n",
    "\n",
    "        with pub_health_dpt:\n",
    "            alcohol = edsl.load(\"alcohol_data\", dtype=edsl.float64)\n",
    "            alcohol = edsl.cast(alcohol, dtype=FIXED)\n",
    "\n",
    "        with education_dpt:\n",
    "            grades = edsl.load(\"grades_data\", dtype=edsl.float64)\n",
    "            grades = edsl.cast(grades, dtype=FIXED)\n",
    "\n",
    "        with encrypted_governement:\n",
    "            correlation = pearson_correlation_coefficient(alcohol, grades)\n",
    "\n",
    "        with data_scientist:\n",
    "            correlation = edsl.cast(correlation, dtype=edsl.float64)\n",
    "            correlation = edsl.save(\"correlation\", correlation)\n",
    "\n",
    "        return correlation\n",
    "\n",
    "    return moose_comp"
   ]
  },
  {
   "cell_type": "markdown",
   "metadata": {},
   "source": [
    "### Evaluate Computation"
   ]
  },
  {
   "cell_type": "code",
   "execution_count": 74,
   "metadata": {},
   "outputs": [],
   "source": [
    "computation = correlation_computation()\n",
    "logical_comp = edsl.trace(computation)\n",
    "\n",
    "executors_storage = {\n",
    "            \"pub_health_dpt\": {\"alcohol_data\": alcohol_consumption},\n",
    "            \"education_dpt\": {\"grades_data\": grades},\n",
    "            \"data_scientist\": {},\n",
    "        }\n",
    "runtime = LocalMooseRuntime(storage_mapping=executors_storage)\n",
    "\n",
    "results = runtime.evaluate_computation(\n",
    "    computation=logical_comp,\n",
    "    role_assignment={\n",
    "        \"pub_health_dpt\": \"pub_health_dpt\",\n",
    "        \"education_dpt\": \"education_dpt\",\n",
    "        \"data_scientist\": \"data_scientist\",\n",
    "    },\n",
    "    arguments={},\n",
    ")"
   ]
  },
  {
   "cell_type": "markdown",
   "metadata": {},
   "source": [
    "### Results\n",
    "\n",
    "**Results:**\n",
    "- The correlation between alcohol consumption and grades is:"
   ]
  },
  {
   "cell_type": "code",
   "execution_count": 55,
   "metadata": {},
   "outputs": [
    {
     "name": "stdout",
     "output_type": "stream",
     "text": [
      "Correlation: -0.5462326644019413\n"
     ]
    }
   ],
   "source": [
    "correlation = runtime.read_value_from_storage(\"data_scientist\", \"correlation\")\n",
    "print(f\"Correlation: {correlation}\")"
   ]
  },
  {
   "cell_type": "markdown",
   "metadata": {},
   "source": [
    "We can validate the computation on encrypted data matches the computation on plaintext data."
   ]
  },
  {
   "cell_type": "code",
   "execution_count": 45,
   "metadata": {},
   "outputs": [
    {
     "data": {
      "text/plain": [
       "-0.5481005967856092"
      ]
     },
     "execution_count": 45,
     "metadata": {},
     "output_type": "execute_result"
    }
   ],
   "source": [
    "np.corrcoef(np.squeeze(alcohol_consumption.to_numpy()), np.squeeze(grades.to_numpy()))[1, 0]"
   ]
  }
 ],
 "metadata": {
  "interpreter": {
   "hash": "c3fc0f2228c96f238702341c5a2fcbad9e1d5c67f2a7840ff08962938a854371"
  },
  "kernelspec": {
   "display_name": "Python 3.8.10 ('venv': venv)",
   "language": "python",
   "name": "python3"
  },
  "language_info": {
   "codemirror_mode": {
    "name": "ipython",
    "version": 3
   },
   "file_extension": ".py",
   "mimetype": "text/x-python",
   "name": "python",
   "nbconvert_exporter": "python",
   "pygments_lexer": "ipython3",
   "version": "3.8.10"
  },
  "orig_nbformat": 4
 },
 "nbformat": 4,
 "nbformat_minor": 2
}
