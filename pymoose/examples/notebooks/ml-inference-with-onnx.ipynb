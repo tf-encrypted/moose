{
 "cells": [
  {
   "cell_type": "markdown",
   "metadata": {},
   "source": [
    "# Tutorial - Encrypted Inference with ONNX Model\n",
    "\n",
    "In this tutorial, we will demonstrate how we can run encrypted machine learning inference from a model saved as an [ONNX](https://onnx.ai/) file."
   ]
  },
  {
   "cell_type": "code",
   "execution_count": 2,
   "metadata": {},
   "outputs": [],
   "source": [
    "import numpy as np\n",
    "\n",
    "from sklearn.datasets import make_classification\n",
    "from sklearn.linear_model import LogisticRegression\n",
    "from sklearn.model_selection import train_test_split\n",
    "\n",
    "from onnxmltools.convert import convert_sklearn\n",
    "from skl2onnx.common import data_types as onnx_dtypes\n",
    "\n",
    "import pymoose as pm\n",
    "from pymoose.predictors import linear_predictor\n",
    "from pymoose.predictors import predictor_utils\n",
    "from pymoose.testing import LocalMooseRuntime\n",
    "\n",
    "random_state = 5"
   ]
  },
  {
   "cell_type": "markdown",
   "metadata": {},
   "source": [
    "### Use case: \n",
    "\n",
    "You are an HealthCare AI startup who has trained a model to diagnose heart disease. You would like to serve this model to an hospital to help doctors diagnose potential heart disease for their patients. However, the patients' data is too sensitive to be shared with the AI startup. For this reason, you would like to encrypt the patients's data and run the machine learning model on it.\n",
    "\n",
    "In this tutorial, we will perform the following steps:\n",
    "- Train a model with [Scikit-Learn](https://scikit-learn.org/stable/)\n",
    "- Convert the trained model to ONNX.\n",
    "- Convert the model from ONNX to a Moose computation.\n",
    "- Run encrypted inference by evaluating the Moose computation.\n",
    "\n",
    "### Training\n",
    "\n",
    "For this tutorial, we use a synthetic dataset. The dataset contains 10 features (`X`). Each record is labeled (`y`) by 0 or 1 (heart disasease or not). For the model, we train a logistic regression with [Scikit-Learn](https://scikit-learn.org/stable/). But you could experiment with other models such as `XGBClassifier` from [XGBoost](https://xgboost.readthedocs.io/en/stable/index.html#) or even [Multi-layer Perceptron](https://scikit-learn.org/stable/modules/neural_networks_supervised.html#multi-layer-perceptron).\n",
    "\n",
    "Once the model is trained, you can convert it to ONNX which is a format to represent machine learning models. Since it's a Scikit-Learn model, you can convert it to ONNX with `convert_sklearn` from [ONNXMLTools](https://github.com/onnx/onnxmltools). Use `convert_xgboost` for XGBoost models."
   ]
  },
  {
   "cell_type": "code",
   "execution_count": 3,
   "metadata": {},
   "outputs": [],
   "source": [
    "n_samples = 1000\n",
    "n_features = 10\n",
    "n_classes = 2\n",
    "\n",
    "# Generate synthetic dataset\n",
    "X, y = make_classification(\n",
    "    n_samples=n_samples,\n",
    "    n_features=n_features,\n",
    "    n_classes=n_classes,\n",
    "    random_state=random_state,\n",
    ")\n",
    "\n",
    "# Split dataset between training and testing datasets\n",
    "X_train, X_test, y_train, y_test = train_test_split(X, y)\n",
    "\n",
    "# Train logistic regression\n",
    "lg = LogisticRegression()\n",
    "lg.fit(X_train, y_train)\n",
    "\n",
    "# Convert scikit-learn model to ONNX\n",
    "initial_type = (\"float_input\", onnx_dtypes.FloatTensorType([None, n_features]))\n",
    "onnx_proto = convert_sklearn(lg, initial_types=[initial_type])"
   ]
  },
  {
   "cell_type": "markdown",
   "metadata": {},
   "source": [
    "### Convert ONNX to Moose Predictor\n",
    "\n",
    "PyMoose provides several predictor classes to translate an ONNX model into a PyMoose DSL program.\n",
    "\n",
    "It currently supports 8 types of model predictors:\n",
    "- `linear_regressor.LinearRegressor`: for models such as linear regression, ridge regression, etc.\n",
    "- `linear_regressor.LinearClassifier`: for models such as logistic regression, classifier using ridge regression, etc.\n",
    "- `tree_ensemble.TreeEnsembleRegressor` for models such as XGBoost regressor, random forest regressor, etc.\n",
    "- `tree_ensemble.TreeEnsembleClassifier`: for models such as XGBoost classifier, random forest classifier, etc.\n",
    "- `multilayer_perceptron_predictor.MLPRegressor`: for multi-layer perceptron regressor models. \n",
    "- `multilayer_perceptron_predictor.MLPClassifier`: for multi-layer perceptron classifier models.\n",
    "- `neural_network_predictor.NeuralNetwork`: for feed forward neural network from PyTorch and TensrFlow."
   ]
  },
  {
   "cell_type": "code",
   "execution_count": 4,
   "metadata": {},
   "outputs": [],
   "source": [
    "predictor = linear_predictor.LinearClassifier.from_onnx(onnx_proto)"
   ]
  },
  {
   "cell_type": "code",
   "execution_count": 5,
   "metadata": {},
   "outputs": [
    {
     "data": {
      "text/plain": [
       "<pymoose.predictors.linear_predictor.LinearClassifier at 0x7f01c7135c10>"
      ]
     },
     "execution_count": 5,
     "metadata": {},
     "output_type": "execute_result"
    }
   ],
   "source": []
  },
  {
   "cell_type": "code",
   "execution_count": 11,
   "metadata": {},
   "outputs": [
    {
     "data": {
      "text/plain": [
       "(HostPlacementExpression(name='alice'),\n",
       " HostPlacementExpression(name='bob'),\n",
       " HostPlacementExpression(name='carole'))"
      ]
     },
     "execution_count": 11,
     "metadata": {},
     "output_type": "execute_result"
    }
   ],
   "source": [
    "predictor.host_placements"
   ]
  },
  {
   "cell_type": "code",
   "execution_count": 12,
   "metadata": {},
   "outputs": [],
   "source": [
    "@pm.computation\n",
    "def moose_predictor_computation(x: pm.Argument(predictor.alice, dtype=pm.float64)):\n",
    "    with predictor.alice:\n",
    "        x_fixed = pm.cast(x, dtype=predictor_utils.DEFAULT_FIXED_DTYPE)\n",
    "    with predictor.replicated:\n",
    "        y = predictor(x_fixed, predictor_utils.DEFAULT_FIXED_DTYPE)\n",
    "    return predictor.handle_output(y, prediction_handler=predictor.alice)"
   ]
  },
  {
   "cell_type": "code",
   "execution_count": 13,
   "metadata": {},
   "outputs": [],
   "source": [
    "traced_predictor = pm.trace(moose_predictor_computation)\n",
    "storage = {plc.name: {} for plc in predictor.host_placements}\n",
    "runtime = LocalMooseRuntime(storage_mapping=storage)\n",
    "role_assignment = {plc.name: plc.name for plc in predictor.host_placements}\n",
    "\n",
    "\n",
    "result_dict = runtime.evaluate_computation(\n",
    "    computation=traced_predictor,\n",
    "    role_assignment=role_assignment,\n",
    "    arguments={\"x\": X_test},\n",
    ")\n",
    "actual_result = list(result_dict.values())[0]\n"
   ]
  },
  {
   "cell_type": "code",
   "execution_count": 14,
   "metadata": {},
   "outputs": [],
   "source": [
    "expected_result = lg.predict_proba(X_test)\n",
    "np.testing.assert_almost_equal(actual_result, expected_result, decimal=2)"
   ]
  }
 ],
 "metadata": {
  "interpreter": {
   "hash": "c8976be5a03b0df451cc69cfc419fd7b54b63440241bc817605cfae539201d9c"
  },
  "kernelspec": {
   "display_name": "Python 3.8.10 ('venv': venv)",
   "language": "python",
   "name": "python3"
  },
  "language_info": {
   "codemirror_mode": {
    "name": "ipython",
    "version": 3
   },
   "file_extension": ".py",
   "mimetype": "text/x-python",
   "name": "python",
   "nbconvert_exporter": "python",
   "pygments_lexer": "ipython3",
   "version": "3.8.10"
  },
  "orig_nbformat": 4
 },
 "nbformat": 4,
 "nbformat_minor": 2
}
