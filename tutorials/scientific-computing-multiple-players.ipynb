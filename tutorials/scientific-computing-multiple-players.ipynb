{
 "cells": [
  {
   "cell_type": "markdown",
   "metadata": {},
   "source": [
    "# Tutorial - Scientific Computing - Multiple Players\n",
    "\n",
    "In this example, we demonstrate how we can perform scientific computation accross multiple data owners while keeping the data always encrypted during computation.\n",
    "\n",
    "For simplicity, we will start by prototyping this computation between the different parties locally using the `pm.LocalMooseRuntime`. Then we will execute the same Moose computation over the network with `pm.GrpcMooseRuntime`. You can also check additional gRPC example [here](https://github.com/tf-encrypted/moose/tree/main/pymoose/examples/grpc)."
   ]
  },
  {
   "cell_type": "code",
   "execution_count": 1,
   "metadata": {},
   "outputs": [],
   "source": [
    "import pathlib\n",
    "\n",
    "import numpy as np\n",
    "\n",
    "import pymoose as pm\n",
    "\n",
    "np.random.seed(1234)"
   ]
  },
  {
   "cell_type": "markdown",
   "metadata": {},
   "source": [
    "### Use case\n",
    "\n",
    "Here is the use case we are trying to solve : researchers would like to measure the correlation between alcohol consumption and students' grades. However the alcohol consumption data and grades data are owned respectively by the Department of Public Health and the Department of Education. These datasets are too sensitive to be moved to a central location or exposed directly to the researchers. To solve this problem, we want to compute the correlation metric on an encrypted version of these datasets. "
   ]
  },
  {
   "cell_type": "markdown",
   "metadata": {},
   "source": [
    "### Data\n",
    "\n",
    "For this demo, we are generating synthetic datasets for 100 students. Of course the correlation result is made up for the purpose of this demo. It's just to illustrate how Moose can be used."
   ]
  },
  {
   "cell_type": "code",
   "execution_count": 2,
   "metadata": {},
   "outputs": [
    {
     "name": "stdout",
     "output_type": "stream",
     "text": [
      "Acohol consumption data from Departement of Public Health: [11.06803447  9.58819631  6.28498731  9.63183684 11.17578054]\n",
      "Grades data from Departement of Education: [ 0.71290544  2.16473508  2.78613359 -2.32336413  0.4538998 ]\n"
     ]
    }
   ],
   "source": [
    "def generate_synthetic_correlated_data(n_samples):\n",
    "    mu = np.array([10, 0])\n",
    "    r = np.array(\n",
    "        [\n",
    "            [3.40, -2.75],\n",
    "            [-2.75, 5.50],\n",
    "        ]\n",
    "    )\n",
    "    rng = np.random.default_rng(12)\n",
    "    x = rng.multivariate_normal(mu, r, size=n_samples)\n",
    "    return x[:, 0], x[:, 1]\n",
    "\n",
    "\n",
    "alcohol_consumption, grades = generate_synthetic_correlated_data(100)\n",
    "\n",
    "print(\n",
    "    f\"Acohol consumption data from Departement of Public Health: {alcohol_consumption[:5]}\"\n",
    ")\n",
    "print(f\"Grades data from Departement of Education: {grades[:5]}\")"
   ]
  },
  {
   "cell_type": "markdown",
   "metadata": {},
   "source": [
    "### Define Moose Computation\n",
    "\n",
    "To measure the correlation between alcohol consumption and students' grades, we will compute the [Pearson correlation coefficient](https://en.wikipedia.org/wiki/Pearson_correlation_coefficient).\n",
    "\n",
    "To express this computation, Moose offers a Python DSL (internally referred to as the eDSL, i.e. \"embedded\" DSL). As you will notice, the syntax is very similar to the scientific computation library [Numpy](https://numpy.org/).\n",
    "\n",
    "The main difference is the notion of placements: host placement and replicated placement. With Moose, every operation under a host placement context is computed on plaintext values (not encrypted). Every operation under a replicated placement is performed on secret shared values (encrypted). \n",
    "\n",
    "We will compute the correlation coefficient between three different players, each of them representing a host placement: Department of Public Health, Department of Education, and a data scientist. The three players are grouped under the replicated placement to perform the encrypted computation. \n",
    "\n",
    "The Moose computation below performs the following steps:\n",
    "- Loads Department of Public Health's data in plaintext from its storage.\n",
    "- Loads Department of Education's data in plaintext from its storage.\n",
    "- Secret shares (encrypts) the datasets.\n",
    "- Computes the correlation coefficient on secret shared data.\n",
    "- Reveals the correlation result only to the data scientist and saves it into its storage."
   ]
  },
  {
   "cell_type": "code",
   "execution_count": 3,
   "metadata": {},
   "outputs": [],
   "source": [
    "fixedpoint_dtype = pm.fixed(24, 40)\n",
    "pub_health_dpt = pm.host_placement(name=\"pub_health_dpt\")\n",
    "education_dpt = pm.host_placement(name=\"education_dpt\")\n",
    "data_scientist = pm.host_placement(name=\"data_scientist\")\n",
    "\n",
    "encrypted_governement = pm.replicated_placement(\n",
    "    name=\"encrypted_governement\",\n",
    "    players=[pub_health_dpt, education_dpt, data_scientist],\n",
    ")\n",
    "\n",
    "\n",
    "def pearson_correlation_coefficient(x, y):\n",
    "    x_mean = pm.mean(x, 0)\n",
    "    y_mean = pm.mean(y, 0)\n",
    "    stdv_x = pm.sum(pm.square(pm.sub(x, x_mean)))\n",
    "    stdv_y = pm.sum(pm.square(pm.sub(y, y_mean)))\n",
    "    corr_num = pm.sum(pm.mul(pm.sub(x, x_mean), pm.sub(y, y_mean)))\n",
    "    corr_denom = pm.sqrt(pm.mul(stdv_x, stdv_y))\n",
    "    return pm.div(corr_num, corr_denom)\n",
    "\n",
    "\n",
    "@pm.computation\n",
    "def multiparty_correlation():\n",
    "\n",
    "    # Department of Public Health load the data in plaintext\n",
    "    # Then the data gets converted from float to fixed-point\n",
    "    with pub_health_dpt:\n",
    "        alcohol = pm.load(\"alcohol_data\", dtype=pm.float64)\n",
    "        alcohol = pm.cast(alcohol, dtype=fixedpoint_dtype)\n",
    "\n",
    "    # Department of Education load the data in plaintext\n",
    "    # Then the data gets converted from float to fixed-point\n",
    "    with education_dpt:\n",
    "        grades = pm.load(\"grades_data\", dtype=pm.float64)\n",
    "        grades = pm.cast(grades, dtype=fixedpoint_dtype)\n",
    "\n",
    "    # Alcohol and grades data gets secret shared when moving from host placement\n",
    "    # to replicated placement.\n",
    "    # Then compute the correlation coefficient on secret shared data\n",
    "    with encrypted_governement:\n",
    "        correlation = pearson_correlation_coefficient(alcohol, grades)\n",
    "\n",
    "    # Only the correlation coefficient gets revealed to the data scientist\n",
    "    # Convert the data from fixed-point to floats and save the data in the storage\n",
    "    with data_scientist:\n",
    "        correlation = pm.cast(correlation, dtype=pm.float64)\n",
    "        correlation = pm.save(\"correlation\", correlation)\n",
    "\n",
    "    return correlation"
   ]
  },
  {
   "cell_type": "markdown",
   "metadata": {},
   "source": [
    "### Evaluate Computation\n",
    "\n",
    "For simplicity, we will use `LocalMooseRuntime` to locally simulate this computation running across hosts. To do so, we need to provide: a Moose computation, a list of host identities to simulate, and a mapping of the data stored by each simulated host. \n",
    "\n",
    "- Since we decorated the function `multiparty_correlation` with `pm.computation`, we can simply supply this as our Moose computation.\n",
    "- The identities correspond to the names of the host placements we defined for our `pm.computation`.\n",
    "- For the simulated data storage, we provide a dictionary mapping between a key and a locally-provided dataset. The key will be used by the load operations in our computation to load the dataset into Moose tensors.\n",
    "\n",
    "Once you have instantiated the `LocalMooseRuntime` with the identities and additional storage mapping and the runtime set as default, you can simply call the Moose computatio to evaluate it. If you prefer, you can also evaluate the computation with `runtime.evaluate_computation(computation=multiparty_correlation, arguments={})`. We can also provide arguments to the computation if needed, but we don't have any in this example. Note that the output of `evaluate_computation` is an empty dictionary, since this function's output operation `pm.save` returns the Unit type."
   ]
  },
  {
   "cell_type": "code",
   "execution_count": 4,
   "metadata": {},
   "outputs": [],
   "source": [
    "executors_storage = {\n",
    "    \"pub_health_dpt\": {\"alcohol_data\": alcohol_consumption},\n",
    "    \"education_dpt\": {\"grades_data\": grades},\n",
    "}\n",
    "\n",
    "runtime = pm.LocalMooseRuntime(\n",
    "    identities=[\"pub_health_dpt\", \"education_dpt\", \"data_scientist\"],\n",
    "    storage_mapping=executors_storage,\n",
    ")\n",
    "\n",
    "runtime.set_default()\n",
    "\n",
    "_ = multiparty_correlation()"
   ]
  },
  {
   "cell_type": "markdown",
   "metadata": {},
   "source": [
    "### Results\n",
    "\n",
    "Once the computation is done, we can extract the result. The correlation coefficient has been stored in the data scientist's storage. We can extract the value from the storage with `read_value_from_storage`."
   ]
  },
  {
   "cell_type": "code",
   "execution_count": 5,
   "metadata": {},
   "outputs": [
    {
     "name": "stdout",
     "output_type": "stream",
     "text": [
      "Correlation result with PyMoose: -0.5462326644019413\n"
     ]
    }
   ],
   "source": [
    "moose_correlation = runtime.read_value_from_storage(\"data_scientist\", \"correlation\")\n",
    "print(f\"Correlation result with PyMoose: {moose_correlation}\")"
   ]
  },
  {
   "cell_type": "markdown",
   "metadata": {},
   "source": [
    "The correlation coefficient is equal to -0.54. "
   ]
  },
  {
   "cell_type": "markdown",
   "metadata": {},
   "source": [
    "In this simulated setting, we can validate that the result on encrypted data matches the computation on plaintext data. To do so, we compute the pearson correlation coefficient with numpy."
   ]
  },
  {
   "cell_type": "code",
   "execution_count": 6,
   "metadata": {},
   "outputs": [
    {
     "name": "stdout",
     "output_type": "stream",
     "text": [
      "Correlation result with Numpy: -0.5481005967856092\n"
     ]
    }
   ],
   "source": [
    "np_correlation = np.corrcoef(np.squeeze(alcohol_consumption), np.squeeze(grades))[1, 0]\n",
    "print(f\"Correlation result with Numpy: {np_correlation}\")"
   ]
  },
  {
   "cell_type": "markdown",
   "metadata": {},
   "source": [
    "As you can see the coefficient matches up to the second decimal point. For improved precision, we can re-adjust the configuration of our fixedpoint dtype used in `multiparty_correlation`. For example, we can trade off integral precision for fractional precision, or try re-scaling/normalizing data before casting to fixedpoint.\n",
    "\n",
    "Voilà! You were able to compute the correlation while keeping the data encrypted during the entire proccess."
   ]
  },
  {
   "cell_type": "markdown",
   "metadata": {},
   "source": [
    "## Run Computation over the Network with gRPC\n",
    "\n",
    "To run the same computation over the network, you need to launch a gRPC worker at the right endpoints for each party (department of public health, department of education and data scientist). You can launch the three workers as follow:\n",
    "\n",
    "```\n",
    "cargo run --bin comet -- --identity localhost:50000 --port 50000\n",
    "cargo run --bin comet -- --identity localhost:50001 --port 50001\n",
    "cargo run --bin comet -- --identity localhost:50002 --port 50002\n",
    "```\n",
    "\n",
    "For the data, we will use the numpy files saved in the `data` folder of this tutorial containing the alcohol consumption data (`alcohol_consumption.npy`) and grades data (`grades.npy`).\n",
    "\n",
    "For the Moose computation, we will use is exact the same computation as the one used with `LocalMooseRuntime` except for the key of the load operations we will provide the actual file path. "
   ]
  },
  {
   "cell_type": "code",
   "execution_count": 7,
   "metadata": {},
   "outputs": [],
   "source": [
    "_DATA_DIR = pathlib.Path().parent / \"data\"\n",
    "\n",
    "alcohol_consumption_path = str((_DATA_DIR / \"alcohol_consumption.npy\").resolve())\n",
    "grades_path = str((_DATA_DIR / \"grades.npy\").resolve())\n",
    "\n",
    "\n",
    "@pm.computation\n",
    "def multiparty_correlation():\n",
    "\n",
    "    # Department of Public Health load the data in plaintext\n",
    "    # Then the data gets converted from float to fixed-point\n",
    "    with pub_health_dpt:\n",
    "        alcohol = pm.load(alcohol_consumption_path, dtype=pm.float64)\n",
    "        alcohol = pm.cast(alcohol, dtype=fixedpoint_dtype)\n",
    "\n",
    "    # Department of Education load the data in plaintext\n",
    "    # Then the data gets converted from float to fixed-point\n",
    "    with education_dpt:\n",
    "        grades = pm.load(grades_path, dtype=pm.float64)\n",
    "        grades = pm.cast(grades, dtype=fixedpoint_dtype)\n",
    "\n",
    "    # Alcohol and grades data gets secret shared when moving from host placement\n",
    "    # to replicated placement.\n",
    "    # Then compute the correlation coefficient on secret shared data\n",
    "    with encrypted_governement:\n",
    "        correlation = pearson_correlation_coefficient(alcohol, grades)\n",
    "\n",
    "    # Only the correlation coefficient gets revealed to the data scientist\n",
    "    # Convert the data from fixed-point to floats and return the correlation\n",
    "    # to the data scientist who's launching the computation. You could also\n",
    "    # save the result to his/her storage with `pm.save`.\n",
    "    with data_scientist:\n",
    "        correlation = pm.cast(correlation, dtype=pm.float64)\n",
    "\n",
    "    return correlation"
   ]
  },
  {
   "cell_type": "markdown",
   "metadata": {},
   "source": [
    "For the runtime, we will use ` pm.GrpcMooseRuntime` this time. As an argument, we need to provide a mapping between the players identity and the gRPC host address. Once you set the runtime as default, you can call the moose computation to compute the encrypted correlation. You could also evaluate the computation with `runtime.evaluate_computation(computation=multiparty_correlation, arguments={})` if you prefer."
   ]
  },
  {
   "cell_type": "code",
   "execution_count": 8,
   "metadata": {},
   "outputs": [],
   "source": [
    "role_map = {\n",
    "    pub_health_dpt: \"localhost:50000\",\n",
    "    education_dpt: \"localhost:50001\",\n",
    "    data_scientist: \"localhost:50002\",\n",
    "}\n",
    "\n",
    "runtime = pm.GrpcMooseRuntime(role_map)\n",
    "runtime.set_default()\n",
    "\n",
    "correlation_result = multiparty_correlation()"
   ]
  },
  {
   "cell_type": "markdown",
   "metadata": {},
   "source": [
    "We can finally comfirm that we get the same result when running this computation with gRPC 🎉!"
   ]
  },
  {
   "cell_type": "code",
   "execution_count": 9,
   "metadata": {},
   "outputs": [
    {
     "name": "stdout",
     "output_type": "stream",
     "text": [
      "Correlation result: -0.5462326644019413\n"
     ]
    }
   ],
   "source": [
    "print(f\"Correlation result: {correlation_result[0]['output_0']}\")"
   ]
  }
 ],
 "metadata": {
  "kernelspec": {
   "display_name": "Python 3.8.10 ('venv': venv)",
   "language": "python",
   "name": "python3"
  },
  "language_info": {
   "codemirror_mode": {
    "name": "ipython",
    "version": 3
   },
   "file_extension": ".py",
   "mimetype": "text/x-python",
   "name": "python",
   "nbconvert_exporter": "python",
   "pygments_lexer": "ipython3",
   "version": "3.8.10"
  },
  "orig_nbformat": 4,
  "vscode": {
   "interpreter": {
    "hash": "c8976be5a03b0df451cc69cfc419fd7b54b63440241bc817605cfae539201d9c"
   }
  }
 },
 "nbformat": 4,
 "nbformat_minor": 2
}
