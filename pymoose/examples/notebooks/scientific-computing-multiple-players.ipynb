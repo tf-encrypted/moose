{
 "cells": [
  {
   "cell_type": "markdown",
   "metadata": {},
   "source": [
    "# Example - Scientific Computing - Multiple Players"
   ]
  },
  {
   "cell_type": "code",
   "execution_count": 13,
   "metadata": {},
   "outputs": [],
   "source": [
    "import argparse\n",
    "import logging\n",
    "import unittest\n",
    "\n",
    "import numpy as np\n",
    "import pandas as pd\n",
    "\n",
    "from pymoose import edsl\n",
    "from pymoose.logger import get_logger\n",
    "from pymoose.testing import LocalMooseRuntime\n",
    "\n",
    "\n",
    "np.random.seed(1234)\n",
    "FIXED = edsl.fixed(14, 23)\n"
   ]
  },
  {
   "cell_type": "markdown",
   "metadata": {},
   "source": [
    "**Use case:**\n",
    "- Researchers wants to measure the correlation between alcohol consumption and student grades but the data is siloed between the department of public health and the department of education:"
   ]
  },
  {
   "cell_type": "markdown",
   "metadata": {},
   "source": [
    "**Datasets**:\n",
    "\n",
    "Department of Public Health:\n",
    "  - Alcohol consumption\n",
    "\n",
    "Department of Education\n",
    "  - Students grades"
   ]
  },
  {
   "cell_type": "code",
   "execution_count": 14,
   "metadata": {},
   "outputs": [],
   "source": [
    "def generate_correlated_data(n_samples, column_names):\n",
    "    mu = np.array([10, 0])\n",
    "    r = np.array([\n",
    "            [  3.40, -2.75],\n",
    "            [ -2.75,  5.50],\n",
    "        ])\n",
    "    rng = np.random.default_rng(12)\n",
    "    x = rng.multivariate_normal(mu, r, size=n_samples)\n",
    "    df0 = pd.DataFrame(data=x[:, 0], columns=[column_names[0]])\n",
    "    df1 = pd.DataFrame(data=x[:, 1], columns=[column_names[1]])\n",
    "    return df0, df1"
   ]
  },
  {
   "cell_type": "code",
   "execution_count": 15,
   "metadata": {},
   "outputs": [
    {
     "data": {
      "text/html": [
       "<div>\n",
       "<style scoped>\n",
       "    .dataframe tbody tr th:only-of-type {\n",
       "        vertical-align: middle;\n",
       "    }\n",
       "\n",
       "    .dataframe tbody tr th {\n",
       "        vertical-align: top;\n",
       "    }\n",
       "\n",
       "    .dataframe thead th {\n",
       "        text-align: right;\n",
       "    }\n",
       "</style>\n",
       "<table border=\"1\" class=\"dataframe\">\n",
       "  <thead>\n",
       "    <tr style=\"text-align: right;\">\n",
       "      <th></th>\n",
       "      <th>alcohol_consumption</th>\n",
       "    </tr>\n",
       "  </thead>\n",
       "  <tbody>\n",
       "    <tr>\n",
       "      <th>0</th>\n",
       "      <td>11.068034</td>\n",
       "    </tr>\n",
       "    <tr>\n",
       "      <th>1</th>\n",
       "      <td>9.588196</td>\n",
       "    </tr>\n",
       "    <tr>\n",
       "      <th>2</th>\n",
       "      <td>6.284987</td>\n",
       "    </tr>\n",
       "    <tr>\n",
       "      <th>3</th>\n",
       "      <td>9.631837</td>\n",
       "    </tr>\n",
       "    <tr>\n",
       "      <th>4</th>\n",
       "      <td>11.175781</td>\n",
       "    </tr>\n",
       "  </tbody>\n",
       "</table>\n",
       "</div>"
      ],
      "text/plain": [
       "   alcohol_consumption\n",
       "0            11.068034\n",
       "1             9.588196\n",
       "2             6.284987\n",
       "3             9.631837\n",
       "4            11.175781"
      ]
     },
     "execution_count": 15,
     "metadata": {},
     "output_type": "execute_result"
    }
   ],
   "source": [
    "alcohol_consumption, grades = generate_correlated_data(100, [\"alcohol_consumption\", \"grades\"])\n",
    "\n",
    "alcohol_consumption.head()"
   ]
  },
  {
   "cell_type": "code",
   "execution_count": 16,
   "metadata": {},
   "outputs": [
    {
     "data": {
      "text/html": [
       "<div>\n",
       "<style scoped>\n",
       "    .dataframe tbody tr th:only-of-type {\n",
       "        vertical-align: middle;\n",
       "    }\n",
       "\n",
       "    .dataframe tbody tr th {\n",
       "        vertical-align: top;\n",
       "    }\n",
       "\n",
       "    .dataframe thead th {\n",
       "        text-align: right;\n",
       "    }\n",
       "</style>\n",
       "<table border=\"1\" class=\"dataframe\">\n",
       "  <thead>\n",
       "    <tr style=\"text-align: right;\">\n",
       "      <th></th>\n",
       "      <th>grades</th>\n",
       "    </tr>\n",
       "  </thead>\n",
       "  <tbody>\n",
       "    <tr>\n",
       "      <th>0</th>\n",
       "      <td>0.712905</td>\n",
       "    </tr>\n",
       "    <tr>\n",
       "      <th>1</th>\n",
       "      <td>2.164735</td>\n",
       "    </tr>\n",
       "    <tr>\n",
       "      <th>2</th>\n",
       "      <td>2.786134</td>\n",
       "    </tr>\n",
       "    <tr>\n",
       "      <th>3</th>\n",
       "      <td>-2.323364</td>\n",
       "    </tr>\n",
       "    <tr>\n",
       "      <th>4</th>\n",
       "      <td>0.453900</td>\n",
       "    </tr>\n",
       "  </tbody>\n",
       "</table>\n",
       "</div>"
      ],
      "text/plain": [
       "     grades\n",
       "0  0.712905\n",
       "1  2.164735\n",
       "2  2.786134\n",
       "3 -2.323364\n",
       "4  0.453900"
      ]
     },
     "execution_count": 16,
     "metadata": {},
     "output_type": "execute_result"
    }
   ],
   "source": [
    "grades.head()"
   ]
  },
  {
   "cell_type": "markdown",
   "metadata": {},
   "source": [
    "**Computation:**\n",
    "- We want to compute the correlation between alcohol consumption and students grades currently siloed between the Department of Public Health and the Department of Education."
   ]
  },
  {
   "cell_type": "code",
   "execution_count": 17,
   "metadata": {},
   "outputs": [],
   "source": [
    "def correlation_computation():\n",
    "    pub_health_dpt = edsl.host_placement(name=\"pub_health_dpt\")\n",
    "    education_dpt = edsl.host_placement(name=\"education_dpt\")\n",
    "    data_scientist = edsl.host_placement(name=\"data_scientist\")\n",
    "    encrypted_governement = edsl.replicated_placement(name=\"encrypted_governement\", players=[pub_health_dpt, education_dpt, data_scientist])\n",
    "\n",
    "    def corr(x, y):\n",
    "        x_mean = edsl.mean(x, 0)\n",
    "        y_mean = edsl.mean(y, 0)\n",
    "        stdv_x = edsl.sum(edsl.square(edsl.sub(x, x_mean)))\n",
    "        stdv_y = edsl.sum(edsl.square(edsl.sub(y, y_mean)))\n",
    "        corr_num = edsl.sum(edsl.mul(edsl.sub(x, x_mean), edsl.sub(y, y_mean)))\n",
    "        corr_denom = edsl.mul(stdv_x, stdv_y)\n",
    "        return corr_num, corr_denom\n",
    "\n",
    "    # TODO use AES encrytion (optional)\n",
    "    # TODO Implement square root\n",
    "\n",
    "    @edsl.computation\n",
    "    def my_comp(alcohol: edsl.Argument(pub_health_dpt, vtype=edsl.TensorType(edsl.float64)),\n",
    "                grades: edsl.Argument(education_dpt, vtype=edsl.TensorType(edsl.float64))):\n",
    "                \n",
    "        with pub_health_dpt:\n",
    "            alcohol = edsl.cast(alcohol, dtype=FIXED)\n",
    "\n",
    "        with education_dpt:\n",
    "            grades = edsl.cast(grades, dtype=FIXED)\n",
    "            \n",
    "        with encrypted_governement:\n",
    "            corr_num, corr_denom = corr(alcohol, grades)\n",
    "            corr_denom = edsl.sqrt(corr_denom)\n",
    "            corr = edsl.div(corr_num, corr_denom)\n",
    "\n",
    "        with data_scientist:\n",
    "            correlation = edsl.cast(correlation, dtype=edsl.float64)\n",
    "            correlation = edsl.save(\"correlation\", correlation)\n",
    "\n",
    "        return correlation\n",
    "\n",
    "    return my_comp\n"
   ]
  },
  {
   "cell_type": "code",
   "execution_count": 18,
   "metadata": {},
   "outputs": [],
   "source": [
    "def execute_computation(input, computation):\n",
    "    executors_storage = {\n",
    "                \"pub_health_dpt\": {},\n",
    "                \"education_dpt\": {},\n",
    "                \"data_scientist\": {},\n",
    "            }\n",
    "    runtime = LocalMooseRuntime(storage_mapping=executors_storage)\n",
    "\n",
    "    logical_comp = edsl.trace(computation)\n",
    "    runtime.evaluate_computation(\n",
    "        computation=logical_comp,\n",
    "        role_assignment={\n",
    "            \"pub_health_dpt\": \"pub_health_dpt\",\n",
    "            \"education_dpt\": \"education_dpt\",\n",
    "            \"data_scientist\": \"data_scientist\",\n",
    "        },\n",
    "        arguments={\"alcohol\": alcohol_consumption.to_numpy(), \"grades\": grades.to_numpy()},\n",
    "    )\n",
    "\n",
    "    return runtime"
   ]
  },
  {
   "cell_type": "code",
   "execution_count": 19,
   "metadata": {},
   "outputs": [
    {
     "ename": "UnboundLocalError",
     "evalue": "local variable 'correlation' referenced before assignment",
     "output_type": "error",
     "traceback": [
      "\u001b[0;31m---------------------------------------------------------------------------\u001b[0m",
      "\u001b[0;31mUnboundLocalError\u001b[0m                         Traceback (most recent call last)",
      "\u001b[1;32m/home/ydupis/Documents/cape-privacy/moose/pymoose/examples/notebooks/scientific-computing-multiple-players.ipynb Cell 11'\u001b[0m in \u001b[0;36m<cell line: 2>\u001b[0;34m()\u001b[0m\n\u001b[1;32m      <a href='vscode-notebook-cell://ssh-remote%2B192.168.4.26/home/ydupis/Documents/cape-privacy/moose/pymoose/examples/notebooks/scientific-computing-multiple-players.ipynb#ch0000010vscode-remote?line=0'>1</a>\u001b[0m computation \u001b[39m=\u001b[39m correlation_computation()\n\u001b[0;32m----> <a href='vscode-notebook-cell://ssh-remote%2B192.168.4.26/home/ydupis/Documents/cape-privacy/moose/pymoose/examples/notebooks/scientific-computing-multiple-players.ipynb#ch0000010vscode-remote?line=1'>2</a>\u001b[0m results \u001b[39m=\u001b[39m execute_computation(\u001b[39minput\u001b[39;49m, computation)\n\u001b[1;32m      <a href='vscode-notebook-cell://ssh-remote%2B192.168.4.26/home/ydupis/Documents/cape-privacy/moose/pymoose/examples/notebooks/scientific-computing-multiple-players.ipynb#ch0000010vscode-remote?line=2'>3</a>\u001b[0m correlation \u001b[39m=\u001b[39m results\u001b[39m.\u001b[39mread_value_from_storage(\u001b[39m\"\u001b[39m\u001b[39mdata_scientist\u001b[39m\u001b[39m\"\u001b[39m, \u001b[39m\"\u001b[39m\u001b[39mcorrelation\u001b[39m\u001b[39m\"\u001b[39m)\n",
      "\u001b[1;32m/home/ydupis/Documents/cape-privacy/moose/pymoose/examples/notebooks/scientific-computing-multiple-players.ipynb Cell 10'\u001b[0m in \u001b[0;36mexecute_computation\u001b[0;34m(input, computation)\u001b[0m\n\u001b[1;32m      <a href='vscode-notebook-cell://ssh-remote%2B192.168.4.26/home/ydupis/Documents/cape-privacy/moose/pymoose/examples/notebooks/scientific-computing-multiple-players.ipynb#ch0000009vscode-remote?line=1'>2</a>\u001b[0m executors_storage \u001b[39m=\u001b[39m {\n\u001b[1;32m      <a href='vscode-notebook-cell://ssh-remote%2B192.168.4.26/home/ydupis/Documents/cape-privacy/moose/pymoose/examples/notebooks/scientific-computing-multiple-players.ipynb#ch0000009vscode-remote?line=2'>3</a>\u001b[0m             \u001b[39m\"\u001b[39m\u001b[39mpub_health_dpt\u001b[39m\u001b[39m\"\u001b[39m: {},\n\u001b[1;32m      <a href='vscode-notebook-cell://ssh-remote%2B192.168.4.26/home/ydupis/Documents/cape-privacy/moose/pymoose/examples/notebooks/scientific-computing-multiple-players.ipynb#ch0000009vscode-remote?line=3'>4</a>\u001b[0m             \u001b[39m\"\u001b[39m\u001b[39meducation_dpt\u001b[39m\u001b[39m\"\u001b[39m: {},\n\u001b[1;32m      <a href='vscode-notebook-cell://ssh-remote%2B192.168.4.26/home/ydupis/Documents/cape-privacy/moose/pymoose/examples/notebooks/scientific-computing-multiple-players.ipynb#ch0000009vscode-remote?line=4'>5</a>\u001b[0m             \u001b[39m\"\u001b[39m\u001b[39mdata_scientist\u001b[39m\u001b[39m\"\u001b[39m: {},\n\u001b[1;32m      <a href='vscode-notebook-cell://ssh-remote%2B192.168.4.26/home/ydupis/Documents/cape-privacy/moose/pymoose/examples/notebooks/scientific-computing-multiple-players.ipynb#ch0000009vscode-remote?line=5'>6</a>\u001b[0m         }\n\u001b[1;32m      <a href='vscode-notebook-cell://ssh-remote%2B192.168.4.26/home/ydupis/Documents/cape-privacy/moose/pymoose/examples/notebooks/scientific-computing-multiple-players.ipynb#ch0000009vscode-remote?line=6'>7</a>\u001b[0m runtime \u001b[39m=\u001b[39m LocalMooseRuntime(storage_mapping\u001b[39m=\u001b[39mexecutors_storage)\n\u001b[0;32m----> <a href='vscode-notebook-cell://ssh-remote%2B192.168.4.26/home/ydupis/Documents/cape-privacy/moose/pymoose/examples/notebooks/scientific-computing-multiple-players.ipynb#ch0000009vscode-remote?line=8'>9</a>\u001b[0m logical_comp \u001b[39m=\u001b[39m edsl\u001b[39m.\u001b[39;49mtrace(computation)\n\u001b[1;32m     <a href='vscode-notebook-cell://ssh-remote%2B192.168.4.26/home/ydupis/Documents/cape-privacy/moose/pymoose/examples/notebooks/scientific-computing-multiple-players.ipynb#ch0000009vscode-remote?line=9'>10</a>\u001b[0m runtime\u001b[39m.\u001b[39mevaluate_computation(\n\u001b[1;32m     <a href='vscode-notebook-cell://ssh-remote%2B192.168.4.26/home/ydupis/Documents/cape-privacy/moose/pymoose/examples/notebooks/scientific-computing-multiple-players.ipynb#ch0000009vscode-remote?line=10'>11</a>\u001b[0m     computation\u001b[39m=\u001b[39mlogical_comp,\n\u001b[1;32m     <a href='vscode-notebook-cell://ssh-remote%2B192.168.4.26/home/ydupis/Documents/cape-privacy/moose/pymoose/examples/notebooks/scientific-computing-multiple-players.ipynb#ch0000009vscode-remote?line=11'>12</a>\u001b[0m     role_assignment\u001b[39m=\u001b[39m{\n\u001b[0;32m   (...)\u001b[0m\n\u001b[1;32m     <a href='vscode-notebook-cell://ssh-remote%2B192.168.4.26/home/ydupis/Documents/cape-privacy/moose/pymoose/examples/notebooks/scientific-computing-multiple-players.ipynb#ch0000009vscode-remote?line=16'>17</a>\u001b[0m     arguments\u001b[39m=\u001b[39m{\u001b[39m\"\u001b[39m\u001b[39malcohol\u001b[39m\u001b[39m\"\u001b[39m: alcohol_consumption\u001b[39m.\u001b[39mto_numpy(), \u001b[39m\"\u001b[39m\u001b[39mgrades\u001b[39m\u001b[39m\"\u001b[39m: grades\u001b[39m.\u001b[39mto_numpy()},\n\u001b[1;32m     <a href='vscode-notebook-cell://ssh-remote%2B192.168.4.26/home/ydupis/Documents/cape-privacy/moose/pymoose/examples/notebooks/scientific-computing-multiple-players.ipynb#ch0000009vscode-remote?line=17'>18</a>\u001b[0m )\n\u001b[1;32m     <a href='vscode-notebook-cell://ssh-remote%2B192.168.4.26/home/ydupis/Documents/cape-privacy/moose/pymoose/examples/notebooks/scientific-computing-multiple-players.ipynb#ch0000009vscode-remote?line=19'>20</a>\u001b[0m \u001b[39mreturn\u001b[39;00m runtime\n",
      "File \u001b[0;32m~/Documents/cape-privacy/moose/pymoose/pymoose/edsl/tracer.py:24\u001b[0m, in \u001b[0;36mtrace\u001b[0;34m(abstract_computation)\u001b[0m\n\u001b[1;32m     <a href='file:///home/ydupis/Documents/cape-privacy/moose/pymoose/pymoose/edsl/tracer.py?line=13'>14</a>\u001b[0m func_signature \u001b[39m=\u001b[39m inspect\u001b[39m.\u001b[39msignature(abstract_computation\u001b[39m.\u001b[39mfunc)\n\u001b[1;32m     <a href='file:///home/ydupis/Documents/cape-privacy/moose/pymoose/pymoose/edsl/tracer.py?line=14'>15</a>\u001b[0m symbolic_args \u001b[39m=\u001b[39m [\n\u001b[1;32m     <a href='file:///home/ydupis/Documents/cape-privacy/moose/pymoose/pymoose/edsl/tracer.py?line=15'>16</a>\u001b[0m     expr\u001b[39m.\u001b[39mArgumentExpression(\n\u001b[1;32m     <a href='file:///home/ydupis/Documents/cape-privacy/moose/pymoose/pymoose/edsl/tracer.py?line=16'>17</a>\u001b[0m         arg_name\u001b[39m=\u001b[39marg_name,\n\u001b[0;32m   (...)\u001b[0m\n\u001b[1;32m     <a href='file:///home/ydupis/Documents/cape-privacy/moose/pymoose/pymoose/edsl/tracer.py?line=21'>22</a>\u001b[0m     \u001b[39mfor\u001b[39;00m arg_name, parameter \u001b[39min\u001b[39;00m func_signature\u001b[39m.\u001b[39mparameters\u001b[39m.\u001b[39mitems()\n\u001b[1;32m     <a href='file:///home/ydupis/Documents/cape-privacy/moose/pymoose/pymoose/edsl/tracer.py?line=22'>23</a>\u001b[0m ]\n\u001b[0;32m---> <a href='file:///home/ydupis/Documents/cape-privacy/moose/pymoose/pymoose/edsl/tracer.py?line=23'>24</a>\u001b[0m expression \u001b[39m=\u001b[39m abstract_computation\u001b[39m.\u001b[39;49mfunc(\u001b[39m*\u001b[39;49msymbolic_args)\n\u001b[1;32m     <a href='file:///home/ydupis/Documents/cape-privacy/moose/pymoose/pymoose/edsl/tracer.py?line=24'>25</a>\u001b[0m tracer \u001b[39m=\u001b[39m AstTracer()\n\u001b[1;32m     <a href='file:///home/ydupis/Documents/cape-privacy/moose/pymoose/pymoose/edsl/tracer.py?line=25'>26</a>\u001b[0m logical_comp \u001b[39m=\u001b[39m tracer\u001b[39m.\u001b[39mtrace(expression)\n",
      "\u001b[1;32m/home/ydupis/Documents/cape-privacy/moose/pymoose/examples/notebooks/scientific-computing-multiple-players.ipynb Cell 9'\u001b[0m in \u001b[0;36mcorrelation_computation.<locals>.my_comp\u001b[0;34m(alcohol, grades)\u001b[0m\n\u001b[1;32m     <a href='vscode-notebook-cell://ssh-remote%2B192.168.4.26/home/ydupis/Documents/cape-privacy/moose/pymoose/examples/notebooks/scientific-computing-multiple-players.ipynb#ch0000008vscode-remote?line=26'>27</a>\u001b[0m     grades \u001b[39m=\u001b[39m edsl\u001b[39m.\u001b[39mcast(grades, dtype\u001b[39m=\u001b[39mFIXED)\n\u001b[1;32m     <a href='vscode-notebook-cell://ssh-remote%2B192.168.4.26/home/ydupis/Documents/cape-privacy/moose/pymoose/examples/notebooks/scientific-computing-multiple-players.ipynb#ch0000008vscode-remote?line=28'>29</a>\u001b[0m \u001b[39mwith\u001b[39;00m encrypted_governement:\n\u001b[0;32m---> <a href='vscode-notebook-cell://ssh-remote%2B192.168.4.26/home/ydupis/Documents/cape-privacy/moose/pymoose/examples/notebooks/scientific-computing-multiple-players.ipynb#ch0000008vscode-remote?line=29'>30</a>\u001b[0m     corr_num, corr_denom \u001b[39m=\u001b[39m correlation(alcohol, grades)\n\u001b[1;32m     <a href='vscode-notebook-cell://ssh-remote%2B192.168.4.26/home/ydupis/Documents/cape-privacy/moose/pymoose/examples/notebooks/scientific-computing-multiple-players.ipynb#ch0000008vscode-remote?line=30'>31</a>\u001b[0m     corr_denom \u001b[39m=\u001b[39m edsl\u001b[39m.\u001b[39msqrt(corr_denom)\n\u001b[1;32m     <a href='vscode-notebook-cell://ssh-remote%2B192.168.4.26/home/ydupis/Documents/cape-privacy/moose/pymoose/examples/notebooks/scientific-computing-multiple-players.ipynb#ch0000008vscode-remote?line=31'>32</a>\u001b[0m     correlation \u001b[39m=\u001b[39m edsl\u001b[39m.\u001b[39mdiv(corr_num, corr_denom)\n",
      "\u001b[0;31mUnboundLocalError\u001b[0m: local variable 'correlation' referenced before assignment"
     ]
    }
   ],
   "source": [
    "computation = correlation_computation()\n",
    "results = execute_computation(input, computation)\n",
    "correlation = results.read_value_from_storage(\"data_scientist\", \"correlation\")"
   ]
  },
  {
   "cell_type": "markdown",
   "metadata": {},
   "source": [
    "**Results:**\n",
    "- The correlation between alcohol consumption and grades is:"
   ]
  },
  {
   "cell_type": "code",
   "execution_count": 11,
   "metadata": {},
   "outputs": [
    {
     "data": {
      "text/html": [
       "<div>\n",
       "<style scoped>\n",
       "    .dataframe tbody tr th:only-of-type {\n",
       "        vertical-align: middle;\n",
       "    }\n",
       "\n",
       "    .dataframe tbody tr th {\n",
       "        vertical-align: top;\n",
       "    }\n",
       "\n",
       "    .dataframe thead th {\n",
       "        text-align: right;\n",
       "    }\n",
       "</style>\n",
       "<table border=\"1\" class=\"dataframe\">\n",
       "  <thead>\n",
       "    <tr style=\"text-align: right;\">\n",
       "      <th></th>\n",
       "      <th>correlation</th>\n",
       "    </tr>\n",
       "  </thead>\n",
       "  <tbody>\n",
       "    <tr>\n",
       "      <th>0</th>\n",
       "      <td>-0.548101</td>\n",
       "    </tr>\n",
       "  </tbody>\n",
       "</table>\n",
       "</div>"
      ],
      "text/plain": [
       "   correlation\n",
       "0    -0.548101"
      ]
     },
     "execution_count": 11,
     "metadata": {},
     "output_type": "execute_result"
    }
   ],
   "source": [
    "pd.DataFrame(correlation.reshape(1, 1), columns=[\"correlation\"])"
   ]
  },
  {
   "cell_type": "markdown",
   "metadata": {},
   "source": [
    "We can validate the computation on encrypted data matches the computation on plaintext data."
   ]
  },
  {
   "cell_type": "code",
   "execution_count": 12,
   "metadata": {},
   "outputs": [
    {
     "data": {
      "text/plain": [
       "-0.5481005967856092"
      ]
     },
     "execution_count": 12,
     "metadata": {},
     "output_type": "execute_result"
    }
   ],
   "source": [
    "np.corrcoef(np.squeeze(alcohol_consumption.to_numpy()), np.squeeze(grades.to_numpy()))[1, 0]"
   ]
  },
  {
   "cell_type": "code",
   "execution_count": null,
   "metadata": {},
   "outputs": [],
   "source": []
  }
 ],
 "metadata": {
  "interpreter": {
   "hash": "c3fc0f2228c96f238702341c5a2fcbad9e1d5c67f2a7840ff08962938a854371"
  },
  "kernelspec": {
   "display_name": "Python 3.8.10 ('venv': venv)",
   "language": "python",
   "name": "python3"
  },
  "language_info": {
   "codemirror_mode": {
    "name": "ipython",
    "version": 3
   },
   "file_extension": ".py",
   "mimetype": "text/x-python",
   "name": "python",
   "nbconvert_exporter": "python",
   "pygments_lexer": "ipython3",
   "version": "3.8.10"
  },
  "orig_nbformat": 4
 },
 "nbformat": 4,
 "nbformat_minor": 2
}
